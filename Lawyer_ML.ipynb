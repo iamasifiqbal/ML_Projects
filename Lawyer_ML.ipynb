{
  "nbformat": 4,
  "nbformat_minor": 0,
  "metadata": {
    "colab": {
      "name": "Lawyer ML.ipynb",
      "provenance": [],
      "authorship_tag": "ABX9TyN/5acizWjSdpCn6VOt778l",
      "include_colab_link": true
    },
    "kernelspec": {
      "name": "python3",
      "display_name": "Python 3"
    }
  },
  "cells": [
    {
      "cell_type": "markdown",
      "metadata": {
        "id": "view-in-github",
        "colab_type": "text"
      },
      "source": [
        "<a href=\"https://colab.research.google.com/github/iamasifiqbal/ML_Projects/blob/main/Lawyer_ML.ipynb\" target=\"_parent\"><img src=\"https://colab.research.google.com/assets/colab-badge.svg\" alt=\"Open In Colab\"/></a>"
      ]
    },
    {
      "cell_type": "code",
      "metadata": {
        "id": "vdVolK2nb31a"
      },
      "source": [
        "import pandas as pd\r\n",
        "import numpy as np"
      ],
      "execution_count": null,
      "outputs": []
    },
    {
      "cell_type": "markdown",
      "metadata": {
        "id": "DfYm2r3-iVJ4"
      },
      "source": [
        "## Pre-Processing"
      ]
    },
    {
      "cell_type": "code",
      "metadata": {
        "colab": {
          "base_uri": "https://localhost:8080/",
          "height": 204
        },
        "id": "seC_uzzRcKDW",
        "outputId": "91515a85-25c0-4552-90c3-a9e4a2cbb77d"
      },
      "source": [
        "lawyer_df = pd.read_csv(\"/content/LawyerDetail2.csv\")\r\n",
        "lawyer_df.head()"
      ],
      "execution_count": null,
      "outputs": [
        {
          "output_type": "execute_result",
          "data": {
            "text/html": [
              "<div>\n",
              "<style scoped>\n",
              "    .dataframe tbody tr th:only-of-type {\n",
              "        vertical-align: middle;\n",
              "    }\n",
              "\n",
              "    .dataframe tbody tr th {\n",
              "        vertical-align: top;\n",
              "    }\n",
              "\n",
              "    .dataframe thead th {\n",
              "        text-align: right;\n",
              "    }\n",
              "</style>\n",
              "<table border=\"1\" class=\"dataframe\">\n",
              "  <thead>\n",
              "    <tr style=\"text-align: right;\">\n",
              "      <th></th>\n",
              "      <th>Law Firms</th>\n",
              "      <th>Address</th>\n",
              "      <th>Email address</th>\n",
              "      <th>Fields</th>\n",
              "      <th>District</th>\n",
              "      <th>Legal Aids provides?</th>\n",
              "      <th>Pro-Bono Service offers?</th>\n",
              "      <th>Office Hours</th>\n",
              "    </tr>\n",
              "  </thead>\n",
              "  <tbody>\n",
              "    <tr>\n",
              "      <th>0</th>\n",
              "      <td>Amir &amp; Amir  Law Associates</td>\n",
              "      <td>Karwan Bazar</td>\n",
              "      <td>info@aalabd.com</td>\n",
              "      <td>Commercial  Law</td>\n",
              "      <td>Dhaka</td>\n",
              "      <td>yes</td>\n",
              "      <td>yes</td>\n",
              "      <td>09:00 AM- 8:00 PM</td>\n",
              "    </tr>\n",
              "    <tr>\n",
              "      <th>1</th>\n",
              "      <td>Amir &amp; Amir  Law Associates</td>\n",
              "      <td>Karwan Bazar</td>\n",
              "      <td>info@aalabd.com</td>\n",
              "      <td>Corporate Governance</td>\n",
              "      <td>Dhaka</td>\n",
              "      <td>yes</td>\n",
              "      <td>yes</td>\n",
              "      <td>09:00 AM- 8:00 PM</td>\n",
              "    </tr>\n",
              "    <tr>\n",
              "      <th>2</th>\n",
              "      <td>Amir &amp; Amir  Law Associates</td>\n",
              "      <td>Karwan Bazar</td>\n",
              "      <td>info@aalabd.com</td>\n",
              "      <td>Corporate  Finance</td>\n",
              "      <td>Dhaka</td>\n",
              "      <td>yes</td>\n",
              "      <td>yes</td>\n",
              "      <td>09:00 AM- 8:00 PM</td>\n",
              "    </tr>\n",
              "    <tr>\n",
              "      <th>3</th>\n",
              "      <td>Amir &amp; Amir  Law Associates</td>\n",
              "      <td>Karwan Bazar</td>\n",
              "      <td>info@aalabd.com</td>\n",
              "      <td>Banking &amp; Finance</td>\n",
              "      <td>Dhaka</td>\n",
              "      <td>yes</td>\n",
              "      <td>yes</td>\n",
              "      <td>09:00 AM- 8:00 PM</td>\n",
              "    </tr>\n",
              "    <tr>\n",
              "      <th>4</th>\n",
              "      <td>Amir &amp; Amir  Law Associates</td>\n",
              "      <td>Karwan Bazar</td>\n",
              "      <td>info@aalabd.com</td>\n",
              "      <td>International Trade</td>\n",
              "      <td>Dhaka</td>\n",
              "      <td>yes</td>\n",
              "      <td>yes</td>\n",
              "      <td>09:00 AM- 8:00 PM</td>\n",
              "    </tr>\n",
              "  </tbody>\n",
              "</table>\n",
              "</div>"
            ],
            "text/plain": [
              "                     Law Firms  ...       Office Hours\n",
              "0  Amir & Amir  Law Associates  ...  09:00 AM- 8:00 PM\n",
              "1  Amir & Amir  Law Associates  ...  09:00 AM- 8:00 PM\n",
              "2  Amir & Amir  Law Associates  ...  09:00 AM- 8:00 PM\n",
              "3  Amir & Amir  Law Associates  ...  09:00 AM- 8:00 PM\n",
              "4  Amir & Amir  Law Associates  ...  09:00 AM- 8:00 PM\n",
              "\n",
              "[5 rows x 8 columns]"
            ]
          },
          "metadata": {
            "tags": []
          },
          "execution_count": 4
        }
      ]
    },
    {
      "cell_type": "code",
      "metadata": {
        "id": "MHj9xSRyfZF5"
      },
      "source": [
        "lawyer_df['Legal Aids provides?'] = lawyer_df['Legal Aids provides?'].replace({'yes': 'Yes'})\r\n",
        "lawyer_df['Pro-Bono Service offers?'] = lawyer_df['Pro-Bono Service offers?'].replace({'yes': 'Yes'})"
      ],
      "execution_count": null,
      "outputs": []
    },
    {
      "cell_type": "code",
      "metadata": {
        "id": "eqBEGsEeD23z"
      },
      "source": [
        "for i in range(len(lawyer_df)):\r\n",
        "  lawyer_df.loc[i,'Fields'] = \" \".join(lawyer_df.loc[i,'Fields'].split())\r\n",
        "  lawyer_df.loc[i,'Law Firms'] = \" \".join(lawyer_df.loc[i,'Law Firms'].split())\r\n",
        "  lawyer_df.loc[i,'Address'] = \" \".join(lawyer_df.loc[i,'Address'].split())"
      ],
      "execution_count": null,
      "outputs": []
    },
    {
      "cell_type": "code",
      "metadata": {
        "id": "2U8_22V_c_bT"
      },
      "source": [
        "ml_df = lawyer_df.copy()"
      ],
      "execution_count": null,
      "outputs": []
    },
    {
      "cell_type": "code",
      "metadata": {
        "id": "O0moxy8_dtQG"
      },
      "source": [
        "# ml_df = pd.get_dummies(ml_df, columns= ['Address','Fields','District','Legal Aids provides?', 'Pro-Bono Service offers?'], prefix=None)"
      ],
      "execution_count": null,
      "outputs": []
    },
    {
      "cell_type": "code",
      "metadata": {
        "id": "jWt2R6N79B4i"
      },
      "source": [
        "ml_df['Fields'] = ml_df['Fields'].str.strip()"
      ],
      "execution_count": null,
      "outputs": []
    },
    {
      "cell_type": "code",
      "metadata": {
        "id": "QwFk-RvFo2hx"
      },
      "source": [
        "temp = ml_df['Address'].str.strip().unique()\r\n",
        "address = {}\r\n",
        "for i in range(len(temp)):\r\n",
        "  address[temp[i]] = i\r\n",
        "temp = ml_df['Fields'].str.strip().unique()\r\n",
        "\r\n",
        "fields = {}\r\n",
        "for i in range(len(temp)):\r\n",
        "  fields[temp[i]] = i\r\n",
        "\r\n",
        "temp = ml_df['District'].str.strip().unique()\r\n",
        "district = {}\r\n",
        "for i in range(len(temp)):\r\n",
        "  district[temp[i]] = i\r\n",
        "\r\n",
        "categorical_dict = {'Yes':1, 'No':0}"
      ],
      "execution_count": null,
      "outputs": []
    },
    {
      "cell_type": "code",
      "metadata": {
        "id": "FtLYsRJy73Y3"
      },
      "source": [
        "ml_df['Address'] = ml_df['Address'].replace(address)\r\n",
        "ml_df['Fields'] = ml_df['Fields'].replace(fields)\r\n",
        "ml_df['District'] = ml_df['District'].replace(district)\r\n",
        "ml_df['Legal Aids provides?'] = ml_df['Legal Aids provides?'].replace({'Yes':1, 'No' :0})\r\n",
        "ml_df['Pro-Bono Service offers?'] = ml_df['Pro-Bono Service offers?'].replace({'Yes':1, 'No' :0})"
      ],
      "execution_count": null,
      "outputs": []
    },
    {
      "cell_type": "code",
      "metadata": {
        "colab": {
          "base_uri": "https://localhost:8080/",
          "height": 204
        },
        "id": "idpu2ThFekpo",
        "outputId": "4aaeb36e-b767-43be-b769-38376f98e3cd"
      },
      "source": [
        "ml_df = ml_df.drop(['Law Firms','Email address','Office Hours'], axis=1)\r\n",
        "ml_df.head()"
      ],
      "execution_count": null,
      "outputs": [
        {
          "output_type": "execute_result",
          "data": {
            "text/html": [
              "<div>\n",
              "<style scoped>\n",
              "    .dataframe tbody tr th:only-of-type {\n",
              "        vertical-align: middle;\n",
              "    }\n",
              "\n",
              "    .dataframe tbody tr th {\n",
              "        vertical-align: top;\n",
              "    }\n",
              "\n",
              "    .dataframe thead th {\n",
              "        text-align: right;\n",
              "    }\n",
              "</style>\n",
              "<table border=\"1\" class=\"dataframe\">\n",
              "  <thead>\n",
              "    <tr style=\"text-align: right;\">\n",
              "      <th></th>\n",
              "      <th>Address</th>\n",
              "      <th>Fields</th>\n",
              "      <th>District</th>\n",
              "      <th>Legal Aids provides?</th>\n",
              "      <th>Pro-Bono Service offers?</th>\n",
              "    </tr>\n",
              "  </thead>\n",
              "  <tbody>\n",
              "    <tr>\n",
              "      <th>0</th>\n",
              "      <td>0</td>\n",
              "      <td>0</td>\n",
              "      <td>0</td>\n",
              "      <td>1</td>\n",
              "      <td>1</td>\n",
              "    </tr>\n",
              "    <tr>\n",
              "      <th>1</th>\n",
              "      <td>0</td>\n",
              "      <td>1</td>\n",
              "      <td>0</td>\n",
              "      <td>1</td>\n",
              "      <td>1</td>\n",
              "    </tr>\n",
              "    <tr>\n",
              "      <th>2</th>\n",
              "      <td>0</td>\n",
              "      <td>2</td>\n",
              "      <td>0</td>\n",
              "      <td>1</td>\n",
              "      <td>1</td>\n",
              "    </tr>\n",
              "    <tr>\n",
              "      <th>3</th>\n",
              "      <td>0</td>\n",
              "      <td>3</td>\n",
              "      <td>0</td>\n",
              "      <td>1</td>\n",
              "      <td>1</td>\n",
              "    </tr>\n",
              "    <tr>\n",
              "      <th>4</th>\n",
              "      <td>0</td>\n",
              "      <td>4</td>\n",
              "      <td>0</td>\n",
              "      <td>1</td>\n",
              "      <td>1</td>\n",
              "    </tr>\n",
              "  </tbody>\n",
              "</table>\n",
              "</div>"
            ],
            "text/plain": [
              "   Address  Fields  District  Legal Aids provides?  Pro-Bono Service offers?\n",
              "0        0       0         0                     1                         1\n",
              "1        0       1         0                     1                         1\n",
              "2        0       2         0                     1                         1\n",
              "3        0       3         0                     1                         1\n",
              "4        0       4         0                     1                         1"
            ]
          },
          "metadata": {
            "tags": []
          },
          "execution_count": 12
        }
      ]
    },
    {
      "cell_type": "markdown",
      "metadata": {
        "id": "DhyHnzENiZi_"
      },
      "source": [
        "## PCA"
      ]
    },
    {
      "cell_type": "code",
      "metadata": {
        "id": "_FfslYFnltao"
      },
      "source": [
        "from sklearn.decomposition import PCA\r\n",
        "pca = PCA(n_components=2)\r\n",
        "pca.fit(ml_df)\r\n",
        "pca_result = pca.transform(ml_df)"
      ],
      "execution_count": null,
      "outputs": []
    },
    {
      "cell_type": "code",
      "metadata": {
        "colab": {
          "base_uri": "https://localhost:8080/",
          "height": 265
        },
        "id": "DEN4qS07mlIL",
        "outputId": "540c307e-de5e-4dcc-ff36-5aa16ca31b96"
      },
      "source": [
        "import matplotlib.pyplot as plt\r\n",
        "plt.scatter(pca_result[:,0], pca_result[:,1])\r\n",
        "plt.show()"
      ],
      "execution_count": null,
      "outputs": [
        {
          "output_type": "display_data",
          "data": {
            "image/png": "[encoded data removed]",
            "text/plain": [
              "<Figure size 432x288 with 1 Axes>"
            ]
          },
          "metadata": {
            "tags": [],
            "needs_background": "light"
          }
        }
      ]
    },
    {
      "cell_type": "markdown",
      "metadata": {
        "id": "TCbh6wGNMZyI"
      },
      "source": [
        "### K-means"
      ]
    },
    {
      "cell_type": "code",
      "metadata": {
        "id": "TEs5pMvmfJQK"
      },
      "source": [
        "from sklearn.cluster import KMeans\r\n",
        "kmeans = KMeans(n_clusters=15, random_state=0).fit(ml_df)"
      ],
      "execution_count": null,
      "outputs": []
    },
    {
      "cell_type": "code",
      "metadata": {
        "id": "2zCxg9iNiulV"
      },
      "source": [
        "label = kmeans.labels_"
      ],
      "execution_count": null,
      "outputs": []
    },
    {
      "cell_type": "code",
      "metadata": {
        "id": "KZIxn70b92RV"
      },
      "source": [
        "lawyer_df['label'] = label"
      ],
      "execution_count": null,
      "outputs": []
    },
    {
      "cell_type": "markdown",
      "metadata": {
        "id": "xyODoRNenTEx"
      },
      "source": [
        "### Search for new result"
      ]
    },
    {
      "cell_type": "code",
      "metadata": {
        "id": "d08q7qQZjcS-"
      },
      "source": [
        "search_query = ['Agrabad','Civil   Law', 'Chittagong','Yes','No']\r\n",
        "Address = 'Agrabad'\r\n",
        "Fields = 'Civil Law'\r\n",
        "str_District = 'Chittagong'\r\n",
        "Legal_Aids_provides = 'Yes'\r\n",
        "Pro_Bono_Service_offers= 'No'"
      ],
      "execution_count": null,
      "outputs": []
    },
    {
      "cell_type": "code",
      "metadata": {
        "id": "Uy7TFfUI-0nC"
      },
      "source": [
        "Address = address[Address]\r\n",
        "Fields = fields[Fields]\r\n",
        "District = district[str_District]\r\n",
        "Legal_Aids_provides = categorical_dict[Legal_Aids_provides]\r\n",
        "Pro_Bono_Service_offers = categorical_dict[Pro_Bono_Service_offers]"
      ],
      "execution_count": null,
      "outputs": []
    },
    {
      "cell_type": "code",
      "metadata": {
        "id": "1E83h-W2_BFi"
      },
      "source": [
        "predict_label = kmeans.predict([[Address,Fields, District, Legal_Aids_provides, Pro_Bono_Service_offers]])[0]"
      ],
      "execution_count": null,
      "outputs": []
    },
    {
      "cell_type": "code",
      "metadata": {
        "id": "YMyZ-F_T_pHz"
      },
      "source": [
        "temp_df = lawyer_df.loc[lawyer_df['label'] == predict_label, :]"
      ],
      "execution_count": null,
      "outputs": []
    },
    {
      "cell_type": "code",
      "metadata": {
        "colab": {
          "base_uri": "https://localhost:8080/"
        },
        "id": "rgiynfh9ODie",
        "outputId": "7e957676-4c0b-4bc3-ff0c-2bf53ccf0fd7"
      },
      "source": [
        "temp_df.columns"
      ],
      "execution_count": null,
      "outputs": [
        {
          "output_type": "execute_result",
          "data": {
            "text/plain": [
              "Index(['Law Firms', 'Address', 'Email address', 'Fields', 'District',\n",
              "       'Legal Aids provides?', 'Pro-Bono Service offers?', 'Office Hours',\n",
              "       'label'],\n",
              "      dtype='object')"
            ]
          },
          "metadata": {
            "tags": []
          },
          "execution_count": 72
        }
      ]
    },
    {
      "cell_type": "code",
      "metadata": {
        "id": "VFNvmP5sNEKq"
      },
      "source": [
        "temp_df = temp_df.drop(temp_df[temp_df['District'] != str_District].index, axis=0)"
      ],
      "execution_count": null,
      "outputs": []
    },
    {
      "cell_type": "code",
      "metadata": {
        "colab": {
          "base_uri": "https://localhost:8080/",
          "height": 111
        },
        "id": "zpkzTSDyQf05",
        "outputId": "f270e5a8-de04-4eaf-f908-3e2ce8da1ad2"
      },
      "source": [
        "temp_df"
      ],
      "execution_count": null,
      "outputs": [
        {
          "output_type": "execute_result",
          "data": {
            "text/html": [
              "<div>\n",
              "<style scoped>\n",
              "    .dataframe tbody tr th:only-of-type {\n",
              "        vertical-align: middle;\n",
              "    }\n",
              "\n",
              "    .dataframe tbody tr th {\n",
              "        vertical-align: top;\n",
              "    }\n",
              "\n",
              "    .dataframe thead th {\n",
              "        text-align: right;\n",
              "    }\n",
              "</style>\n",
              "<table border=\"1\" class=\"dataframe\">\n",
              "  <thead>\n",
              "    <tr style=\"text-align: right;\">\n",
              "      <th></th>\n",
              "      <th>Law Firms</th>\n",
              "      <th>Address</th>\n",
              "      <th>Email address</th>\n",
              "      <th>Fields</th>\n",
              "      <th>District</th>\n",
              "      <th>Legal Aids provides?</th>\n",
              "      <th>Pro-Bono Service offers?</th>\n",
              "      <th>Office Hours</th>\n",
              "      <th>label</th>\n",
              "    </tr>\n",
              "  </thead>\n",
              "  <tbody>\n",
              "    <tr>\n",
              "      <th>70</th>\n",
              "      <td>Mahbubul Alam &amp; Associates</td>\n",
              "      <td>Agrabad</td>\n",
              "      <td>mahbubadv.@yahoo.com</td>\n",
              "      <td>Tax Law</td>\n",
              "      <td>Chittagong</td>\n",
              "      <td>Yes</td>\n",
              "      <td>Yes</td>\n",
              "      <td>9.00 AM - 10.00 PM</td>\n",
              "      <td>3</td>\n",
              "    </tr>\n",
              "    <tr>\n",
              "      <th>72</th>\n",
              "      <td>Mahbubul Alam &amp; Associates</td>\n",
              "      <td>Agrabad</td>\n",
              "      <td>mahbubadv.@yahoo.com</td>\n",
              "      <td>Civil Law</td>\n",
              "      <td>Chittagong</td>\n",
              "      <td>Yes</td>\n",
              "      <td>Yes</td>\n",
              "      <td>9.00 AM - 10.00 PM</td>\n",
              "      <td>3</td>\n",
              "    </tr>\n",
              "  </tbody>\n",
              "</table>\n",
              "</div>"
            ],
            "text/plain": [
              "                     Law Firms  Address  ...         Office Hours label\n",
              "70  Mahbubul Alam & Associates  Agrabad  ...  9.00 AM - 10.00 PM      3\n",
              "72  Mahbubul Alam & Associates  Agrabad  ...  9.00 AM - 10.00 PM      3\n",
              "\n",
              "[2 rows x 9 columns]"
            ]
          },
          "metadata": {
            "tags": []
          },
          "execution_count": 74
        }
      ]
    },
    {
      "cell_type": "code",
      "metadata": {
        "id": "4BqSttrkQqgd",
        "colab": {
          "base_uri": "https://localhost:8080/"
        },
        "outputId": "416940a8-68dd-4fd3-f702-048fecddc004"
      },
      "source": [
        "!git remote add origin https://<iamasifiqbal>:<kumudinI1>@github.com/<iamasifiqbal>/ML_Projects.git\r\n"
      ],
      "execution_count": 1,
      "outputs": [
        {
          "output_type": "stream",
          "text": [
            "/bin/bash: iamasifiqbal: No such file or directory\n"
          ],
          "name": "stdout"
        }
      ]
    },
    {
      "cell_type": "code",
      "metadata": {
        "colab": {
          "base_uri": "https://localhost:8080/"
        },
        "id": "3bcM0_GuRn4J",
        "outputId": "3318ac14-bbf1-42a4-e0c1-0e246ccab0c2"
      },
      "source": [
        "!git remote add origin https://<iamasifiqbal>:<406e8458497374534e234f6b1e3b62f28999b504>@github.com/<iamasifiqbal>/ML_Projects.git\r\n"
      ],
      "execution_count": 2,
      "outputs": [
        {
          "output_type": "stream",
          "text": [
            "/bin/bash: iamasifiqbal: No such file or directory\n"
          ],
          "name": "stdout"
        }
      ]
    },
    {
      "cell_type": "code",
      "metadata": {
        "colab": {
          "base_uri": "https://localhost:8080/",
          "height": 129
        },
        "id": "QNo0ehSYSpcu",
        "outputId": "50337cce-541d-49df-db4f-b8d955004038"
      },
      "source": [
        "import clone\r\n",
        "git clone https://github.com/iamasifiqbal/ML_Projects\r\n",
        "cd ML_Projects"
      ],
      "execution_count": 7,
      "outputs": [
        {
          "output_type": "error",
          "ename": "SyntaxError",
          "evalue": "ignored",
          "traceback": [
            "\u001b[0;36m  File \u001b[0;32m\"<ipython-input-7-eb9e182f01de>\"\u001b[0;36m, line \u001b[0;32m2\u001b[0m\n\u001b[0;31m    git clone https://github.com/iamasifiqbal/ML_Projects\u001b[0m\n\u001b[0m            ^\u001b[0m\n\u001b[0;31mSyntaxError\u001b[0m\u001b[0;31m:\u001b[0m invalid syntax\n"
          ]
        }
      ]
    },
    {
      "cell_type": "code",
      "metadata": {
        "colab": {
          "base_uri": "https://localhost:8080/"
        },
        "id": "Bf0sr6RjTMVW",
        "outputId": "a36de594-5897-49f9-9110-f9b13acf3a4f"
      },
      "source": [
        "!git remote add origin https://github.com/iamasifiqbal/ML_Projects.git\r\n",
        "!git branch -M main\r\n",
        "!git push -u origin main"
      ],
      "execution_count": 9,
      "outputs": [
        {
          "output_type": "stream",
          "text": [
            "fatal: not a git repository (or any of the parent directories): .git\n",
            "fatal: not a git repository (or any of the parent directories): .git\n",
            "fatal: not a git repository (or any of the parent directories): .git\n"
          ],
          "name": "stdout"
        }
      ]
    },
    {
      "cell_type": "code",
      "metadata": {
        "id": "X1arrrdXV-WB"
      },
      "source": [
        ""
      ],
      "execution_count": null,
      "outputs": []
    }
  ]
}