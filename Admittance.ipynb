{
  "nbformat": 4,
  "nbformat_minor": 0,
  "metadata": {
    "kernelspec": {
      "display_name": "Python 3",
      "language": "python",
      "name": "python3"
    },
    "language_info": {
      "codemirror_mode": {
        "name": "ipython",
        "version": 3
      },
      "file_extension": ".py",
      "mimetype": "text/x-python",
      "name": "python",
      "nbconvert_exporter": "python",
      "pygments_lexer": "ipython3",
      "version": "3.6.4"
    },
    "colab": {
      "name": "Admittance.ipynb",
      "provenance": [],
      "include_colab_link": true
    }
  },
  "cells": [
    {
      "cell_type": "markdown",
      "metadata": {
        "id": "view-in-github",
        "colab_type": "text"
      },
      "source": [
        "<a href=\"https://colab.research.google.com/github/iamasifiqbal/ML_Projects/blob/main/Admittance.ipynb\" target=\"_parent\"><img src=\"https://colab.research.google.com/assets/colab-badge.svg\" alt=\"Open In Colab\"/></a>"
      ]
    },
    {
      "cell_type": "markdown",
      "metadata": {
        "id": "PIKHbz7WKJFr"
      },
      "source": [
        "# Basics of logistic regression"
      ]
    },
    {
      "cell_type": "markdown",
      "metadata": {
        "id": "RfdJTqoPKJFs"
      },
      "source": [
        "## Import the relevant libraries"
      ]
    },
    {
      "cell_type": "code",
      "metadata": {
        "id": "EkPDm1CYKJFt"
      },
      "source": [
        "import numpy as np\n",
        "import pandas as pd\n",
        "import statsmodels.api as sm\n",
        "import matplotlib.pyplot as plt\n",
        "import seaborn as sns\n",
        "sns.set()"
      ],
      "execution_count": null,
      "outputs": []
    },
    {
      "cell_type": "markdown",
      "metadata": {
        "id": "5fDkLcRXKJFy"
      },
      "source": [
        "## Load the data"
      ]
    },
    {
      "cell_type": "code",
      "metadata": {
        "scrolled": true,
        "id": "qA0HZHYMKJFy"
      },
      "source": [
        "raw_data = pd.read_csv('2.01. Admittance.csv')\n",
        "raw_data"
      ],
      "execution_count": null,
      "outputs": []
    },
    {
      "cell_type": "code",
      "metadata": {
        "scrolled": true,
        "id": "znPL7Sf9KJF2"
      },
      "source": [
        "data = raw_data.copy()\n",
        "data['Admitted'] = data['Admitted'].map({'Yes':1,'No':0})\n",
        "data"
      ],
      "execution_count": null,
      "outputs": []
    },
    {
      "cell_type": "markdown",
      "metadata": {
        "id": "d32q4dfaKJF6"
      },
      "source": [
        "## Variables"
      ]
    },
    {
      "cell_type": "code",
      "metadata": {
        "id": "BRULy631KJF7"
      },
      "source": [
        "y = data['Admitted']\n",
        "x1 = data['SAT']"
      ],
      "execution_count": null,
      "outputs": []
    },
    {
      "cell_type": "markdown",
      "metadata": {
        "id": "aSue9HWrKJGA"
      },
      "source": [
        "## Let's plot the data"
      ]
    },
    {
      "cell_type": "markdown",
      "metadata": {
        "id": "nuWuKSOtKJGB"
      },
      "source": [
        "### Scatter plot"
      ]
    },
    {
      "cell_type": "code",
      "metadata": {
        "id": "nBrvQuIaKJGC"
      },
      "source": [
        "plt.scatter(x1,y,color='C0')\n",
        "plt.xlabel('SAT',fontsize=20)\n",
        "plt.ylabel('Admitted',fontsize=20)\n",
        "plt.show()"
      ],
      "execution_count": null,
      "outputs": []
    },
    {
      "cell_type": "markdown",
      "metadata": {
        "id": "A8rRPhtlKJGF"
      },
      "source": [
        "### Plot with a regression line"
      ]
    },
    {
      "cell_type": "code",
      "metadata": {
        "id": "mWmtvjoPKJGG"
      },
      "source": [
        "x = sm.add_constant(x1)\n",
        "reg_lin = sm.OLS(y,x)\n",
        "results_lin = reg_lin.fit()\n",
        "\n",
        "plt.scatter(x1,y,color = 'C0')\n",
        "y_hat = x1*results_lin.params[1]+results_lin.params[0]\n",
        "\n",
        "plt.plot(x1,y_hat,lw=2.5,color='C8')\n",
        "plt.xlabel('SAT', fontsize = 20)\n",
        "plt.ylabel('Admitted', fontsize = 20)\n",
        "plt.show()"
      ],
      "execution_count": null,
      "outputs": []
    },
    {
      "cell_type": "markdown",
      "metadata": {
        "id": "5MxRYxRXKJGM"
      },
      "source": [
        "### Plot with a logistic regression curve"
      ]
    },
    {
      "cell_type": "code",
      "metadata": {
        "id": "Mtf4ToajKJGN"
      },
      "source": [
        "reg_log = sm.Logit(y,x)\n",
        "results_log = reg_log.fit()\n",
        "\n",
        "def f(x,b0,b1):\n",
        "    return np.array(np.exp(b0+x*b1) / (1 + np.exp(b0+x*b1)))\n",
        "\n",
        "f_sorted = np.sort(f(x1,results_log.params[0],results_log.params[1]))\n",
        "x_sorted = np.sort(np.array(x1))\n",
        "\n",
        "plt.scatter(x1,y,color='C0')\n",
        "plt.xlabel('SAT', fontsize = 20)\n",
        "plt.ylabel('Admitted', fontsize = 20)\n",
        "plt.plot(x_sorted,f_sorted,color='C8')\n",
        "plt.show()"
      ],
      "execution_count": null,
      "outputs": []
    }
  ]
}